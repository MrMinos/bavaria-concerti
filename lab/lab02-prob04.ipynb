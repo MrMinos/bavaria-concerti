{
 "cells": [
  {
   "cell_type": "markdown",
    "metadata": {
        "deletable": false,
        "editable": false
    },  
   "source": [
    "# Lab 02: Problem 4\n",
    "## \"Mirror, mirror on the wall, what are the answers?\"\n",
    "\n",
    "_This guide is to help further your interest in how python works,  \n",
    "and to encourage thinking about different approaches to the same problem.  \n",
    "Some of the codes used in examples could be beyond the scope of this course._\n",
    "\n",
    "Please remember to fun!"
   ]
  },
  {
   "cell_type": "markdown",
    "metadata": {
        "deletable": false,
        "editable": false
    },
   "source": [
    "---\n",
    "### Example 01"
   ]
  },
  {
   "cell_type": "code",
   "execution_count": null,
    "metadata": {
        "deletable": false,
        "editable": false
    },
   "outputs": [],
   "source": [
    "def mirror(num1, num2):\n",
    "    \"\"\"\n",
    "    Return if num1 is num2 backwards\n",
    "    The inputs will always be < 100.\n",
    "\n",
    "    >>> mirror(12, 21)\n",
    "    True\n",
    "    >>> mirror(54, 45)\n",
    "    True\n",
    "    >>> mirror(33, 33)\n",
    "    True\n",
    "    >>> mirror(42, 52)\n",
    "    False\n",
    "    >>> mirror(12, 22)\n",
    "    False\n",
    "    \"\"\"\n",
    "    # evaluate first, whether nums are single digits\n",
    "    if num1 < 10 and num1 == num2:\n",
    "        return True\n",
    "    \n",
    "    num1_1st_digit = num1 // 10\n",
    "    num1_2nd_digit = num1 % 10\n",
    "    \n",
    "    num2_1st_digit = num2 // 10\n",
    "    num2_2nd_digit = num2 % 10\n",
    "    \n",
    "    if num1_1st_digit == num2_2nd_digit and \\\n",
    "        num1_2nd_digit == num2_1st_digit:     \n",
    "        # backslash(\\) is for allowing a newline\n",
    "        # within if statement for reasonable conciseness of the code        \n",
    "        return True\n",
    "    else:\n",
    "        return False"
   ]
  },
  {
   "cell_type": "code",
   "execution_count": null,
   "metadata": {
    "scrolled": false
   },
   "outputs": [],
   "source": [
    "mirror(17,71)"
   ]
  },
  {
   "cell_type": "code",
   "execution_count": null,
   "metadata": {
    "scrolled": true
   },
   "outputs": [],
   "source": [
    "mirror (7,7)"
   ]
  },
  {
   "cell_type": "code",
   "execution_count": null,
   "metadata": {
    "scrolled": true
   },
   "outputs": [],
   "source": [
    "mirror(177,761) # does not work in general case: always false"
   ]
  },
  {
   "cell_type": "code",
   "execution_count": null,
   "metadata": {},
   "outputs": [],
   "source": [
    "mirror(177,771) # does not work in general case"
   ]
  },
  {
   "cell_type": "markdown",
    "metadata": {
        "deletable": false,
        "editable": false
    },
   "source": [
    "#### Think about why this would work (7, 70)"
   ]
  },
  {
   "cell_type": "code",
   "execution_count": null,
   "metadata": {
    "scrolled": true
   },
   "outputs": [],
   "source": [
    "mirror (7,70)"
   ]
  },
  {
   "cell_type": "markdown",
    "metadata": {
        "deletable": false,
        "editable": false
    },
   "source": [
    "---\n",
    "### Example 02 - using strings"
   ]
  },
  {
   "cell_type": "markdown",
    "metadata": {
        "deletable": false,
        "editable": false
    },
   "source": [
    "__I am omitting docstrings from hereupon.__"
   ]
  },
  {
   "cell_type": "code",
   "execution_count": null,
    "metadata": {
        "deletable": false,
        "editable": false
    },
   "outputs": [],
   "source": [
    "def mirror(num1, num2):\n",
    "    num_str1 = str(num1)\n",
    "    num_str2 = str(num2)\n",
    "    if len(num_str1) == 1 or len(num_str2) == 1:\n",
    "        return num_str1 == num_str2\n",
    "    else:\n",
    "        return num_str1[0] == num_str2[-1] and num_str1[-1] == num_str2[0]\n",
    "        "
   ]
  },
  {
   "cell_type": "code",
   "execution_count": null,
   "metadata": {
    "scrolled": false
   },
   "outputs": [],
   "source": [
    "mirror(17,71)"
   ]
  },
  {
   "cell_type": "code",
   "execution_count": null,
   "metadata": {
    "scrolled": true
   },
   "outputs": [],
   "source": [
    "mirror (7,7)"
   ]
  },
  {
   "cell_type": "code",
   "execution_count": null,
   "metadata": {
    "scrolled": true
   },
   "outputs": [],
   "source": [
    "mirror(177,761) # does not work correctly in general case"
   ]
  },
  {
   "cell_type": "code",
   "execution_count": null,
   "metadata": {},
   "outputs": [],
   "source": [
    "mirror(177,771) # does not work in general case correctly"
   ]
  },
  {
   "cell_type": "markdown",
    "metadata": {
        "deletable": false,
        "editable": false
    },
   "source": [
    "#### Think about why this would not work (7, 70)"
   ]
  },
  {
   "cell_type": "code",
   "execution_count": null,
   "metadata": {
    "scrolled": true
   },
   "outputs": [],
   "source": [
    "mirror (7,70)"
   ]
  },
  {
   "cell_type": "markdown",
    "metadata": {
        "deletable": false,
        "editable": false
    },
   "source": [
    "---\n",
    "### Example 03 - cool way\n",
    "_A student sent it to me, thanks Henry!_"
   ]
  },
  {
   "cell_type": "code",
   "execution_count": null,
    "metadata": {
        "deletable": false,
        "editable": false
    },
   "outputs": [],
   "source": [
    "def mirror(num1, num2):\n",
    "    string1 = str(num1)\n",
    "    string2 = str(num2)\n",
    "    list1 = [ord(i) for i in string1]\n",
    "    list2 = [ord(c) for c in string2]\n",
    "    if num1 == num2 and len(list1) == len(set(list2)) and len(list2) == len(set(list2)):\n",
    "        return True\n",
    "    if sum(list1) == sum(list2) and num1 != num2:\n",
    "        return True\n",
    "    return False"
   ]
  },
  {
   "cell_type": "code",
   "execution_count": null,
   "metadata": {
    "scrolled": false
   },
   "outputs": [],
   "source": [
    "mirror(17,71)"
   ]
  },
  {
   "cell_type": "code",
   "execution_count": null,
   "metadata": {
    "scrolled": true
   },
   "outputs": [],
   "source": [
    "mirror (7,7)"
   ]
  },
  {
   "cell_type": "code",
   "execution_count": null,
   "metadata": {
    "scrolled": true
   },
   "outputs": [],
   "source": [
    "mirror(132,321) # does not work correctly in general case"
   ]
  },
  {
   "cell_type": "code",
   "execution_count": null,
   "metadata": {},
   "outputs": [],
   "source": [
    "mirror(177,771)"
   ]
  },
  {
   "cell_type": "markdown",
    "metadata": {
        "deletable": false,
        "editable": false
    },
   "source": [
    "## General cases\n",
    "Following examples work in general cases with more than two digits."
   ]
  },
  {
   "cell_type": "markdown",
    "metadata": {
        "deletable": false,
        "editable": false
    },
   "source": [
    "---\n",
    "### Exaple 04 - By Math"
   ]
  },
  {
   "cell_type": "code",
   "execution_count": null,
    "metadata": {
        "deletable": false,
        "editable": false
    },
   "outputs": [],
   "source": [
    "def mirror(num1, num2):\n",
    "    if num1 < 10 or num2 < 10:\n",
    "        return num1 == num2\n",
    "    else:\n",
    "        return abs(num1 - num2) % 9 == 0 or num1 == num2"
   ]
  },
  {
   "cell_type": "code",
   "execution_count": null,
   "metadata": {
    "scrolled": false
   },
   "outputs": [],
   "source": [
    "mirror(17,71)"
   ]
  },
  {
   "cell_type": "code",
   "execution_count": null,
   "metadata": {},
   "outputs": [],
   "source": [
    "mirror(42,24)"
   ]
  },
  {
   "cell_type": "code",
   "execution_count": null,
   "metadata": {
    "scrolled": true
   },
   "outputs": [],
   "source": [
    "mirror (7,7)"
   ]
  },
  {
   "cell_type": "code",
   "execution_count": null,
   "metadata": {
    "scrolled": true
   },
   "outputs": [],
   "source": [
    "mirror(177,761)"
   ]
  },
  {
   "cell_type": "code",
   "execution_count": null,
   "metadata": {},
   "outputs": [],
   "source": [
    "mirror(177, 771)"
   ]
  },
  {
   "cell_type": "code",
   "execution_count": null,
   "metadata": {},
   "outputs": [],
   "source": [
    "mirror(1377,7731)"
   ]
  },
  {
   "cell_type": "markdown",
    "metadata": {
        "deletable": false,
        "editable": false
    },
   "source": [
    "---\n",
    "### Example 05 - more string fun"
   ]
  },
  {
   "cell_type": "code",
   "execution_count": null,
    "metadata": {
        "deletable": false,
        "editable": false
    },
   "outputs": [],
   "source": [
    "def mirror(num1, num2):\n",
    "    num_str1 = str(num1)\n",
    "    num_str2 = str(num2)\n",
    "    if len(num_str1) == 1 or len(num_str2) == 1:\n",
    "        return num_str1 == num_str2\n",
    "    elif num_str1[0] == num_str2[-1]:\n",
    "        return mirror( str(num1)[1:], str(num2)[:-1] )\n",
    "    else:\n",
    "        return False"
   ]
  },
  {
   "cell_type": "code",
   "execution_count": null,
   "metadata": {
    "scrolled": false
   },
   "outputs": [],
   "source": [
    "mirror(17,71)"
   ]
  },
  {
   "cell_type": "code",
   "execution_count": null,
   "metadata": {
    "scrolled": false
   },
   "outputs": [],
   "source": [
    "mirror (7,7)"
   ]
  },
  {
   "cell_type": "code",
   "execution_count": null,
   "metadata": {},
   "outputs": [],
   "source": [
    "mirror(177,871)"
   ]
  },
  {
   "cell_type": "code",
   "execution_count": null,
   "metadata": {
    "scrolled": true
   },
   "outputs": [],
   "source": [
    "mirror(177,771)"
   ]
  },
  {
   "cell_type": "code",
   "execution_count": null,
   "metadata": {},
   "outputs": [],
   "source": [
    "mirror(1377,7731)"
   ]
  }
 ],
 "metadata": {
  "kernelspec": {
   "display_name": "Python 3",
   "language": "python",
   "name": "python3"
  },
  "language_info": {
   "codemirror_mode": {
    "name": "ipython",
    "version": 3
   },
   "file_extension": ".py",
   "mimetype": "text/x-python",
   "name": "python",
   "nbconvert_exporter": "python",
   "pygments_lexer": "ipython3",
   "version": "3.6.4"
  }
 },
 "nbformat": 4,
 "nbformat_minor": 2
}
